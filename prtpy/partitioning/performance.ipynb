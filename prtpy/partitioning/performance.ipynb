{
 "cells": [
  {
   "cell_type": "code",
   "execution_count": 1,
   "metadata": {},
   "outputs": [],
   "source": [
    "import os\n",
    "import sys\n",
    "os.getcwd() \n",
    "sys.path.append(\"C:/Users/Kfir Goldfarb/OneDrive - Ariel University/Development/prtpy\")"
   ]
  },
  {
   "cell_type": "code",
   "execution_count": 2,
   "metadata": {},
   "outputs": [],
   "source": [
    "import matplotlib.pyplot as plt\n",
    "import numpy as np\n",
    "import prtpy\n",
    "from irnp import irnp\n",
    "from prtpy import Bins, BinsKeepingContents"
   ]
  },
  {
   "cell_type": "code",
   "execution_count": 3,
   "metadata": {},
   "outputs": [
    {
     "name": "stdout",
     "output_type": "stream",
     "text": [
      "time for thread1: 0.16157007217407227\n",
      "time for thread2: 0.14359736442565918\n",
      "total time: 0.16157007217407227\n"
     ]
    }
   ],
   "source": [
    "result, t1, t2, t_total = irnp(BinsKeepingContents(3), items=[i for i in range(1, 8)], with_threads=True)"
   ]
  },
  {
   "cell_type": "code",
   "execution_count": 4,
   "metadata": {},
   "outputs": [
    {
     "data": {
      "text/plain": [
       "Bin #0: [7, 3], sum=10.0\n",
       "Bin #1: [5, 4], sum=9.0\n",
       "Bin #2: [6, 2, 1], sum=9.0"
      ]
     },
     "execution_count": 4,
     "metadata": {},
     "output_type": "execute_result"
    }
   ],
   "source": [
    "result"
   ]
  },
  {
   "cell_type": "code",
   "execution_count": 5,
   "metadata": {},
   "outputs": [
    {
     "data": {
      "image/png": "[encoded data removed]",
      "text/plain": [
       "<Figure size 432x288 with 1 Axes>"
      ]
     },
     "metadata": {
      "needs_background": "light"
     },
     "output_type": "display_data"
    }
   ],
   "source": [
    "fig = plt.figure()\n",
    "ax = fig.add_axes([0, 0, 1, 1])\n",
    "names = ['Thread-1', 'Thread-2', 'Total Time']\n",
    "run_times = [t1, t2, t_total]\n",
    "ax.bar(names, run_times)\n",
    "ax.set_title(\"IRNP algorithm show performance of 2 threads:\")\n",
    "ax.set_ylabel(\"Time\")\n",
    "plt.show()"
   ]
  },
  {
   "cell_type": "code",
   "execution_count": 6,
   "metadata": {},
   "outputs": [
    {
     "name": "stdout",
     "output_type": "stream",
     "text": [
      "total time: 0.21143555641174316\n"
     ]
    }
   ],
   "source": [
    "result2, t_total2 = irnp(BinsKeepingContents(5), items=[i for i in range(1, 8)])"
   ]
  },
  {
   "cell_type": "code",
   "execution_count": 7,
   "metadata": {},
   "outputs": [
    {
     "data": {
      "image/png": "[encoded data removed]",
      "text/plain": [
       "<Figure size 432x288 with 1 Axes>"
      ]
     },
     "metadata": {
      "needs_background": "light"
     },
     "output_type": "display_data"
    }
   ],
   "source": [
    "fig = plt.figure()\n",
    "ax = fig.add_axes([0, 0, 1, 1])\n",
    "names = ['Total Time']\n",
    "run_times = [t_total]\n",
    "ax.bar(names, run_times)\n",
    "ax.set_title(\"IRNP algorithm show performance of NO threads:\")\n",
    "ax.set_ylabel(\"Time\")\n",
    "plt.show()"
   ]
  }
 ],
 "metadata": {
  "kernelspec": {
   "display_name": "Python 3",
   "language": "python",
   "name": "python3"
  },
  "language_info": {
   "codemirror_mode": {
    "name": "ipython",
    "version": 3
   },
   "file_extension": ".py",
   "mimetype": "text/x-python",
   "name": "python",
   "nbconvert_exporter": "python",
   "pygments_lexer": "ipython3",
   "version": "3.8.8"
  }
 },
 "nbformat": 4,
 "nbformat_minor": 1
}
